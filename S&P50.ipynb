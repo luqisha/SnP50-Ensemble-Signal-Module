{
 "cells": [
  {
   "cell_type": "code",
   "execution_count": 1,
   "metadata": {},
   "outputs": [],
   "source": [
    "import os\n",
    "import pandas as pd\n",
    "import matplotlib.pyplot as plt\n",
    "import quantstats as qs\n",
    "import yfinance as yf\n",
    "from hurst import compute_Hc \n",
    "from modules.strategy import group4_ensemble_model_signals\n",
    "\n",
    "from zipline.api import (order, order_target, record, symbol, get_datetime,\n",
    "                         order_target_percent,\n",
    "                         order_target_value,\n",
    "                         set_benchmark,\n",
    "                         get_open_orders)\n",
    "from zipline import run_algorithm\n",
    "\n",
    "import warnings\n",
    "warnings.filterwarnings(\"ignore\")\n",
    "\n",
    "%matplotlib inline\n",
    "%load_ext autoreload\n",
    "%autoreload 2\n"
   ]
  },
  {
   "cell_type": "code",
   "execution_count": 2,
   "metadata": {},
   "outputs": [],
   "source": [
    "tickers = os.listdir('./CSVs/daily/')\n",
    "tickers = [x.replace('.csv', '') for x in tickers]"
   ]
  },
  {
   "cell_type": "code",
   "execution_count": 3,
   "metadata": {},
   "outputs": [],
   "source": [
    "start_date = pd.Timestamp('2018-01-01')\n",
    "end_date = pd.Timestamp('2022-12-31')\n",
    "\n",
    "window = 100\n",
    "capital_base = 100000\n",
    "position = 5"
   ]
  },
  {
   "cell_type": "code",
   "execution_count": 4,
   "metadata": {},
   "outputs": [
    {
     "ename": "ValueError",
     "evalue": "Series contains NaNs",
     "output_type": "error",
     "traceback": [
      "\u001b[0;31m---------------------------------------------------------------------------\u001b[0m",
      "\u001b[0;31mValueError\u001b[0m                                Traceback (most recent call last)",
      "Cell \u001b[0;32mIn[4], line 32\u001b[0m\n\u001b[1;32m     27\u001b[0m             \u001b[38;5;28;01melse\u001b[39;00m:\n\u001b[1;32m     28\u001b[0m                 \u001b[38;5;28;01mpass\u001b[39;00m\n\u001b[0;32m---> 32\u001b[0m result \u001b[38;5;241m=\u001b[39m run_algorithm(\n\u001b[1;32m     33\u001b[0m     start\u001b[38;5;241m=\u001b[39mpd\u001b[38;5;241m.\u001b[39mto_datetime(start_date),\n\u001b[1;32m     34\u001b[0m     end\u001b[38;5;241m=\u001b[39mpd\u001b[38;5;241m.\u001b[39mto_datetime(end_date),\n\u001b[1;32m     35\u001b[0m     initialize\u001b[38;5;241m=\u001b[39minitialize,\n\u001b[1;32m     36\u001b[0m     handle_data\u001b[38;5;241m=\u001b[39mhandle_data,\n\u001b[1;32m     37\u001b[0m     capital_base\u001b[38;5;241m=\u001b[39mcapital_base,\n\u001b[1;32m     38\u001b[0m     bundle\u001b[38;5;241m=\u001b[39m\u001b[38;5;124m'\u001b[39m\u001b[38;5;124msnp50\u001b[39m\u001b[38;5;124m'\u001b[39m,\n\u001b[1;32m     39\u001b[0m     data_frequency\u001b[38;5;241m=\u001b[39m\u001b[38;5;124m'\u001b[39m\u001b[38;5;124mdaily\u001b[39m\u001b[38;5;124m'\u001b[39m,\n\u001b[1;32m     40\u001b[0m     )\n",
      "File \u001b[0;32m~/anaconda3/lib/python3.11/site-packages/zipline/utils/run_algo.py:397\u001b[0m, in \u001b[0;36mrun_algorithm\u001b[0;34m(start, end, initialize, capital_base, handle_data, before_trading_start, analyze, data_frequency, bundle, bundle_timestamp, trading_calendar, metrics_set, benchmark_returns, default_extension, extensions, strict_extensions, environ, custom_loader, blotter)\u001b[0m\n\u001b[1;32m    393\u001b[0m load_extensions(default_extension, extensions, strict_extensions, environ)\n\u001b[1;32m    395\u001b[0m benchmark_spec \u001b[38;5;241m=\u001b[39m BenchmarkSpec\u001b[38;5;241m.\u001b[39mfrom_returns(benchmark_returns)\n\u001b[0;32m--> 397\u001b[0m \u001b[38;5;28;01mreturn\u001b[39;00m _run(\n\u001b[1;32m    398\u001b[0m     handle_data\u001b[38;5;241m=\u001b[39mhandle_data,\n\u001b[1;32m    399\u001b[0m     initialize\u001b[38;5;241m=\u001b[39minitialize,\n\u001b[1;32m    400\u001b[0m     before_trading_start\u001b[38;5;241m=\u001b[39mbefore_trading_start,\n\u001b[1;32m    401\u001b[0m     analyze\u001b[38;5;241m=\u001b[39manalyze,\n\u001b[1;32m    402\u001b[0m     algofile\u001b[38;5;241m=\u001b[39m\u001b[38;5;28;01mNone\u001b[39;00m,\n\u001b[1;32m    403\u001b[0m     algotext\u001b[38;5;241m=\u001b[39m\u001b[38;5;28;01mNone\u001b[39;00m,\n\u001b[1;32m    404\u001b[0m     defines\u001b[38;5;241m=\u001b[39m(),\n\u001b[1;32m    405\u001b[0m     data_frequency\u001b[38;5;241m=\u001b[39mdata_frequency,\n\u001b[1;32m    406\u001b[0m     capital_base\u001b[38;5;241m=\u001b[39mcapital_base,\n\u001b[1;32m    407\u001b[0m     bundle\u001b[38;5;241m=\u001b[39mbundle,\n\u001b[1;32m    408\u001b[0m     bundle_timestamp\u001b[38;5;241m=\u001b[39mbundle_timestamp,\n\u001b[1;32m    409\u001b[0m     start\u001b[38;5;241m=\u001b[39mstart,\n\u001b[1;32m    410\u001b[0m     end\u001b[38;5;241m=\u001b[39mend,\n\u001b[1;32m    411\u001b[0m     output\u001b[38;5;241m=\u001b[39mos\u001b[38;5;241m.\u001b[39mdevnull,\n\u001b[1;32m    412\u001b[0m     trading_calendar\u001b[38;5;241m=\u001b[39mtrading_calendar,\n\u001b[1;32m    413\u001b[0m     print_algo\u001b[38;5;241m=\u001b[39m\u001b[38;5;28;01mFalse\u001b[39;00m,\n\u001b[1;32m    414\u001b[0m     metrics_set\u001b[38;5;241m=\u001b[39mmetrics_set,\n\u001b[1;32m    415\u001b[0m     local_namespace\u001b[38;5;241m=\u001b[39m\u001b[38;5;28;01mFalse\u001b[39;00m,\n\u001b[1;32m    416\u001b[0m     environ\u001b[38;5;241m=\u001b[39menviron,\n\u001b[1;32m    417\u001b[0m     blotter\u001b[38;5;241m=\u001b[39mblotter,\n\u001b[1;32m    418\u001b[0m     custom_loader\u001b[38;5;241m=\u001b[39mcustom_loader,\n\u001b[1;32m    419\u001b[0m     benchmark_spec\u001b[38;5;241m=\u001b[39mbenchmark_spec,\n\u001b[1;32m    420\u001b[0m )\n",
      "File \u001b[0;32m~/anaconda3/lib/python3.11/site-packages/zipline/utils/run_algo.py:227\u001b[0m, in \u001b[0;36m_run\u001b[0;34m(handle_data, initialize, before_trading_start, analyze, algofile, algotext, defines, data_frequency, capital_base, bundle, bundle_timestamp, start, end, output, trading_calendar, print_algo, metrics_set, local_namespace, environ, blotter, custom_loader, benchmark_spec)\u001b[0m\n\u001b[1;32m    197\u001b[0m         \u001b[38;5;28;01mraise\u001b[39;00m _RunAlgoError(\u001b[38;5;28mstr\u001b[39m(e))\n\u001b[1;32m    199\u001b[0m \u001b[38;5;28;01mtry\u001b[39;00m:\n\u001b[1;32m    200\u001b[0m     perf \u001b[38;5;241m=\u001b[39m TradingAlgorithm(\n\u001b[1;32m    201\u001b[0m         namespace\u001b[38;5;241m=\u001b[39mnamespace,\n\u001b[1;32m    202\u001b[0m         data_portal\u001b[38;5;241m=\u001b[39mdata,\n\u001b[1;32m    203\u001b[0m         get_pipeline_loader\u001b[38;5;241m=\u001b[39mchoose_loader,\n\u001b[1;32m    204\u001b[0m         trading_calendar\u001b[38;5;241m=\u001b[39mtrading_calendar,\n\u001b[1;32m    205\u001b[0m         sim_params\u001b[38;5;241m=\u001b[39mSimulationParameters(\n\u001b[1;32m    206\u001b[0m             start_session\u001b[38;5;241m=\u001b[39mstart,\n\u001b[1;32m    207\u001b[0m             end_session\u001b[38;5;241m=\u001b[39mend,\n\u001b[1;32m    208\u001b[0m             trading_calendar\u001b[38;5;241m=\u001b[39mtrading_calendar,\n\u001b[1;32m    209\u001b[0m             capital_base\u001b[38;5;241m=\u001b[39mcapital_base,\n\u001b[1;32m    210\u001b[0m             data_frequency\u001b[38;5;241m=\u001b[39mdata_frequency,\n\u001b[1;32m    211\u001b[0m         ),\n\u001b[1;32m    212\u001b[0m         metrics_set\u001b[38;5;241m=\u001b[39mmetrics_set,\n\u001b[1;32m    213\u001b[0m         blotter\u001b[38;5;241m=\u001b[39mblotter,\n\u001b[1;32m    214\u001b[0m         benchmark_returns\u001b[38;5;241m=\u001b[39mbenchmark_returns,\n\u001b[1;32m    215\u001b[0m         benchmark_sid\u001b[38;5;241m=\u001b[39mbenchmark_sid,\n\u001b[1;32m    216\u001b[0m         \u001b[38;5;241m*\u001b[39m\u001b[38;5;241m*\u001b[39m{\n\u001b[1;32m    217\u001b[0m             \u001b[38;5;124m\"\u001b[39m\u001b[38;5;124minitialize\u001b[39m\u001b[38;5;124m\"\u001b[39m: initialize,\n\u001b[1;32m    218\u001b[0m             \u001b[38;5;124m\"\u001b[39m\u001b[38;5;124mhandle_data\u001b[39m\u001b[38;5;124m\"\u001b[39m: handle_data,\n\u001b[1;32m    219\u001b[0m             \u001b[38;5;124m\"\u001b[39m\u001b[38;5;124mbefore_trading_start\u001b[39m\u001b[38;5;124m\"\u001b[39m: before_trading_start,\n\u001b[1;32m    220\u001b[0m             \u001b[38;5;124m\"\u001b[39m\u001b[38;5;124manalyze\u001b[39m\u001b[38;5;124m\"\u001b[39m: analyze,\n\u001b[1;32m    221\u001b[0m         }\n\u001b[1;32m    222\u001b[0m         \u001b[38;5;28;01mif\u001b[39;00m algotext \u001b[38;5;129;01mis\u001b[39;00m \u001b[38;5;28;01mNone\u001b[39;00m\n\u001b[1;32m    223\u001b[0m         \u001b[38;5;28;01melse\u001b[39;00m {\n\u001b[1;32m    224\u001b[0m             \u001b[38;5;124m\"\u001b[39m\u001b[38;5;124malgo_filename\u001b[39m\u001b[38;5;124m\"\u001b[39m: \u001b[38;5;28mgetattr\u001b[39m(algofile, \u001b[38;5;124m\"\u001b[39m\u001b[38;5;124mname\u001b[39m\u001b[38;5;124m\"\u001b[39m, \u001b[38;5;124m\"\u001b[39m\u001b[38;5;124m<algorithm>\u001b[39m\u001b[38;5;124m\"\u001b[39m),\n\u001b[1;32m    225\u001b[0m             \u001b[38;5;124m\"\u001b[39m\u001b[38;5;124mscript\u001b[39m\u001b[38;5;124m\"\u001b[39m: algotext,\n\u001b[1;32m    226\u001b[0m         },\n\u001b[0;32m--> 227\u001b[0m     )\u001b[38;5;241m.\u001b[39mrun()\n\u001b[1;32m    228\u001b[0m \u001b[38;5;28;01mexcept\u001b[39;00m NoBenchmark:\n\u001b[1;32m    229\u001b[0m     \u001b[38;5;28;01mraise\u001b[39;00m _RunAlgoError(\n\u001b[1;32m    230\u001b[0m         (\n\u001b[1;32m    231\u001b[0m             \u001b[38;5;124m\"\u001b[39m\u001b[38;5;124mNo ``benchmark_spec`` was provided, and\u001b[39m\u001b[38;5;124m\"\u001b[39m\n\u001b[0;32m   (...)\u001b[0m\n\u001b[1;32m    239\u001b[0m         ),\n\u001b[1;32m    240\u001b[0m     )\n",
      "File \u001b[0;32m~/anaconda3/lib/python3.11/site-packages/zipline/algorithm.py:625\u001b[0m, in \u001b[0;36mTradingAlgorithm.run\u001b[0;34m(self, data_portal)\u001b[0m\n\u001b[1;32m    623\u001b[0m \u001b[38;5;28;01mtry\u001b[39;00m:\n\u001b[1;32m    624\u001b[0m     perfs \u001b[38;5;241m=\u001b[39m []\n\u001b[0;32m--> 625\u001b[0m     \u001b[38;5;28;01mfor\u001b[39;00m perf \u001b[38;5;129;01min\u001b[39;00m \u001b[38;5;28mself\u001b[39m\u001b[38;5;241m.\u001b[39mget_generator():\n\u001b[1;32m    626\u001b[0m         perfs\u001b[38;5;241m.\u001b[39mappend(perf)\n\u001b[1;32m    628\u001b[0m     \u001b[38;5;66;03m# convert perf dict to pandas dataframe\u001b[39;00m\n",
      "File \u001b[0;32m~/anaconda3/lib/python3.11/site-packages/zipline/gens/tradesimulation.py:225\u001b[0m, in \u001b[0;36mAlgorithmSimulator.transform\u001b[0;34m(self)\u001b[0m\n\u001b[1;32m    223\u001b[0m \u001b[38;5;28;01mfor\u001b[39;00m dt, action \u001b[38;5;129;01min\u001b[39;00m \u001b[38;5;28mself\u001b[39m\u001b[38;5;241m.\u001b[39mclock:\n\u001b[1;32m    224\u001b[0m     \u001b[38;5;28;01mif\u001b[39;00m action \u001b[38;5;241m==\u001b[39m BAR:\n\u001b[0;32m--> 225\u001b[0m         \u001b[38;5;28;01mfor\u001b[39;00m capital_change_packet \u001b[38;5;129;01min\u001b[39;00m every_bar(dt):\n\u001b[1;32m    226\u001b[0m             \u001b[38;5;28;01myield\u001b[39;00m capital_change_packet\n\u001b[1;32m    227\u001b[0m     \u001b[38;5;28;01melif\u001b[39;00m action \u001b[38;5;241m==\u001b[39m SESSION_START:\n",
      "File \u001b[0;32m~/anaconda3/lib/python3.11/site-packages/zipline/gens/tradesimulation.py:141\u001b[0m, in \u001b[0;36mAlgorithmSimulator.transform.<locals>.every_bar\u001b[0;34m(dt_to_use, current_data, handle_data)\u001b[0m\n\u001b[1;32m    138\u001b[0m \u001b[38;5;28;01mfor\u001b[39;00m commission \u001b[38;5;129;01min\u001b[39;00m new_commissions:\n\u001b[1;32m    139\u001b[0m     metrics_tracker\u001b[38;5;241m.\u001b[39mprocess_commission(commission)\n\u001b[0;32m--> 141\u001b[0m handle_data(algo, current_data, dt_to_use)\n\u001b[1;32m    143\u001b[0m \u001b[38;5;66;03m# grab any new orders from the blotter, then clear the list.\u001b[39;00m\n\u001b[1;32m    144\u001b[0m \u001b[38;5;66;03m# this includes cancelled orders.\u001b[39;00m\n\u001b[1;32m    145\u001b[0m new_orders \u001b[38;5;241m=\u001b[39m blotter\u001b[38;5;241m.\u001b[39mnew_orders\n",
      "File \u001b[0;32m~/anaconda3/lib/python3.11/site-packages/zipline/utils/events.py:201\u001b[0m, in \u001b[0;36mEventManager.handle_data\u001b[0;34m(self, context, data, dt)\u001b[0m\n\u001b[1;32m    199\u001b[0m \u001b[38;5;28;01mwith\u001b[39;00m \u001b[38;5;28mself\u001b[39m\u001b[38;5;241m.\u001b[39m_create_context(data):\n\u001b[1;32m    200\u001b[0m     \u001b[38;5;28;01mfor\u001b[39;00m event \u001b[38;5;129;01min\u001b[39;00m \u001b[38;5;28mself\u001b[39m\u001b[38;5;241m.\u001b[39m_events:\n\u001b[0;32m--> 201\u001b[0m         event\u001b[38;5;241m.\u001b[39mhandle_data(\n\u001b[1;32m    202\u001b[0m             context,\n\u001b[1;32m    203\u001b[0m             data,\n\u001b[1;32m    204\u001b[0m             dt,\n\u001b[1;32m    205\u001b[0m         )\n",
      "File \u001b[0;32m~/anaconda3/lib/python3.11/site-packages/zipline/utils/events.py:224\u001b[0m, in \u001b[0;36mEvent.handle_data\u001b[0;34m(self, context, data, dt)\u001b[0m\n\u001b[1;32m    220\u001b[0m \u001b[38;5;250m\u001b[39m\u001b[38;5;124;03m\"\"\"\u001b[39;00m\n\u001b[1;32m    221\u001b[0m \u001b[38;5;124;03mCalls the callable only when the rule is triggered.\u001b[39;00m\n\u001b[1;32m    222\u001b[0m \u001b[38;5;124;03m\"\"\"\u001b[39;00m\n\u001b[1;32m    223\u001b[0m \u001b[38;5;28;01mif\u001b[39;00m \u001b[38;5;28mself\u001b[39m\u001b[38;5;241m.\u001b[39mrule\u001b[38;5;241m.\u001b[39mshould_trigger(dt):\n\u001b[0;32m--> 224\u001b[0m     \u001b[38;5;28mself\u001b[39m\u001b[38;5;241m.\u001b[39mcallback(context, data)\n",
      "File \u001b[0;32m~/anaconda3/lib/python3.11/site-packages/zipline/algorithm.py:443\u001b[0m, in \u001b[0;36mTradingAlgorithm.handle_data\u001b[0;34m(self, data)\u001b[0m\n\u001b[1;32m    441\u001b[0m \u001b[38;5;28;01mdef\u001b[39;00m \u001b[38;5;21mhandle_data\u001b[39m(\u001b[38;5;28mself\u001b[39m, data):\n\u001b[1;32m    442\u001b[0m     \u001b[38;5;28;01mif\u001b[39;00m \u001b[38;5;28mself\u001b[39m\u001b[38;5;241m.\u001b[39m_handle_data:\n\u001b[0;32m--> 443\u001b[0m         \u001b[38;5;28mself\u001b[39m\u001b[38;5;241m.\u001b[39m_handle_data(\u001b[38;5;28mself\u001b[39m, data)\n",
      "Cell \u001b[0;32mIn[4], line 21\u001b[0m, in \u001b[0;36mhandle_data\u001b[0;34m(context, data)\u001b[0m\n\u001b[1;32m     18\u001b[0m price \u001b[38;5;241m=\u001b[39m data\u001b[38;5;241m.\u001b[39mcurrent(asset, \u001b[38;5;124m\"\u001b[39m\u001b[38;5;124mprice\u001b[39m\u001b[38;5;124m\"\u001b[39m)\n\u001b[1;32m     20\u001b[0m curr_win_data \u001b[38;5;241m=\u001b[39m data\u001b[38;5;241m.\u001b[39mhistory(asset, [\u001b[38;5;124m'\u001b[39m\u001b[38;5;124mopen\u001b[39m\u001b[38;5;124m'\u001b[39m, \u001b[38;5;124m'\u001b[39m\u001b[38;5;124mhigh\u001b[39m\u001b[38;5;124m'\u001b[39m, \u001b[38;5;124m'\u001b[39m\u001b[38;5;124mlow\u001b[39m\u001b[38;5;124m'\u001b[39m, \u001b[38;5;124m'\u001b[39m\u001b[38;5;124mclose\u001b[39m\u001b[38;5;124m'\u001b[39m, \u001b[38;5;124m'\u001b[39m\u001b[38;5;124mvolume\u001b[39m\u001b[38;5;124m'\u001b[39m], bar_count\u001b[38;5;241m=\u001b[39mwindow, frequency\u001b[38;5;241m=\u001b[39m\u001b[38;5;124m\"\u001b[39m\u001b[38;5;124m1d\u001b[39m\u001b[38;5;124m\"\u001b[39m)\n\u001b[0;32m---> 21\u001b[0m signal \u001b[38;5;241m=\u001b[39m group4_ensemble_model_signals(curr_win_data)\n\u001b[1;32m     23\u001b[0m \u001b[38;5;28;01mif\u001b[39;00m signal \u001b[38;5;241m==\u001b[39m \u001b[38;5;241m1\u001b[39m:\n\u001b[1;32m     24\u001b[0m     order_target(asset, \u001b[38;5;241m5\u001b[39m)\n",
      "File \u001b[0;32m/mnt/6CFA305EFA3026AC/Anchorblock/SnP50-Ensemble-Signal-Module/modules/strategy.py:10\u001b[0m, in \u001b[0;36mgroup4_ensemble_model_signals\u001b[0;34m(df)\u001b[0m\n\u001b[1;32m      8\u001b[0m \u001b[38;5;28;01mdef\u001b[39;00m \u001b[38;5;21mgroup4_ensemble_model_signals\u001b[39m(df):\n\u001b[0;32m---> 10\u001b[0m     behaviour \u001b[38;5;241m=\u001b[39m price_behaviour(df\u001b[38;5;241m.\u001b[39mclose)\n\u001b[1;32m     12\u001b[0m     \u001b[38;5;28;01mif\u001b[39;00m behaviour \u001b[38;5;241m>\u001b[39m \u001b[38;5;241m0.5\u001b[39m:\n\u001b[1;32m     13\u001b[0m         \u001b[38;5;28mprint\u001b[39m(\u001b[38;5;124mf\u001b[39m\u001b[38;5;124m\"\u001b[39m\u001b[38;5;132;01m{\u001b[39;00mdf\u001b[38;5;241m.\u001b[39mindex[\u001b[38;5;241m0\u001b[39m]\u001b[38;5;132;01m}\u001b[39;00m\u001b[38;5;124m -- \u001b[39m\u001b[38;5;132;01m{\u001b[39;00mdf\u001b[38;5;241m.\u001b[39mindex[\u001b[38;5;241m-\u001b[39m\u001b[38;5;241m1\u001b[39m]\u001b[38;5;132;01m}\u001b[39;00m\u001b[38;5;124m -- Price behaviour is Trend Following\u001b[39m\u001b[38;5;124m\"\u001b[39m)\n",
      "File \u001b[0;32m/mnt/6CFA305EFA3026AC/Anchorblock/SnP50-Ensemble-Signal-Module/modules/strategy.py:6\u001b[0m, in \u001b[0;36mprice_behaviour\u001b[0;34m(data)\u001b[0m\n\u001b[1;32m      5\u001b[0m \u001b[38;5;28;01mdef\u001b[39;00m \u001b[38;5;21mprice_behaviour\u001b[39m(data):\n\u001b[0;32m----> 6\u001b[0m     \u001b[38;5;28;01mreturn\u001b[39;00m compute_Hc(data, kind\u001b[38;5;241m=\u001b[39m\u001b[38;5;124m'\u001b[39m\u001b[38;5;124mprice\u001b[39m\u001b[38;5;124m'\u001b[39m)[\u001b[38;5;241m0\u001b[39m]\n",
      "File \u001b[0;32m~/anaconda3/lib/python3.11/site-packages/hurst/__init__.py:159\u001b[0m, in \u001b[0;36mcompute_Hc\u001b[0;34m(series, kind, min_window, max_window, simplified)\u001b[0m\n\u001b[1;32m    157\u001b[0m \u001b[38;5;28;01mif\u001b[39;00m \u001b[38;5;124m\"\u001b[39m\u001b[38;5;124mpandas.core.series\u001b[39m\u001b[38;5;124m\"\u001b[39m \u001b[38;5;129;01min\u001b[39;00m sys\u001b[38;5;241m.\u001b[39mmodules\u001b[38;5;241m.\u001b[39mkeys() \u001b[38;5;129;01mand\u001b[39;00m \u001b[38;5;28mtype\u001b[39m(series) \u001b[38;5;241m==\u001b[39m pd\u001b[38;5;241m.\u001b[39mcore\u001b[38;5;241m.\u001b[39mseries\u001b[38;5;241m.\u001b[39mSeries:\n\u001b[1;32m    158\u001b[0m     \u001b[38;5;28;01mif\u001b[39;00m series\u001b[38;5;241m.\u001b[39misnull()\u001b[38;5;241m.\u001b[39mvalues\u001b[38;5;241m.\u001b[39many():\n\u001b[0;32m--> 159\u001b[0m         \u001b[38;5;28;01mraise\u001b[39;00m \u001b[38;5;167;01mValueError\u001b[39;00m(\u001b[38;5;124m\"\u001b[39m\u001b[38;5;124mSeries contains NaNs\u001b[39m\u001b[38;5;124m\"\u001b[39m)\n\u001b[1;32m    160\u001b[0m     series \u001b[38;5;241m=\u001b[39m series\u001b[38;5;241m.\u001b[39mvalues  \u001b[38;5;66;03m# convert pandas Series to numpy array\u001b[39;00m\n\u001b[1;32m    161\u001b[0m \u001b[38;5;28;01melif\u001b[39;00m np\u001b[38;5;241m.\u001b[39misnan(np\u001b[38;5;241m.\u001b[39mmin(series)):\n",
      "\u001b[0;31mValueError\u001b[0m: Series contains NaNs"
     ]
    }
   ],
   "source": [
    "%%capture backtest_cell_output \n",
    "\n",
    "def initialize(context):\n",
    "    context.i = 0\n",
    "\n",
    "    assets = list()\n",
    "    for ticker in tickers:\n",
    "        assets.append(symbol(ticker))\n",
    "    context.assets = assets\n",
    "    \n",
    "    \n",
    "def handle_data(context, data):\n",
    "    context.i += 1\n",
    "    if context.i < window + 1:\n",
    "        return\n",
    "\n",
    "    for asset in context.assets:\n",
    "        if data.can_trade(asset) and not get_open_orders(asset):\n",
    "            cash = context.portfolio.cash\n",
    "            price = data.current(asset, \"price\")\n",
    "\n",
    "            curr_win_data = data.history(asset, ['open', 'high', 'low', 'close', 'volume'], bar_count=window, frequency=\"1d\")\n",
    "            signal = group4_ensemble_model_signals(curr_win_data)\n",
    "\n",
    "            if signal == 1:\n",
    "                order_target(asset, 5)\n",
    "            elif signal == -1: \n",
    "                order_target(asset, 0)\n",
    "            else:\n",
    "                pass\n",
    "    \n",
    "\n",
    "\n",
    "result = run_algorithm(\n",
    "    start=pd.to_datetime(start_date),\n",
    "    end=pd.to_datetime(end_date),\n",
    "    initialize=initialize,\n",
    "    handle_data=handle_data,\n",
    "    capital_base=capital_base,\n",
    "    bundle='snp50',\n",
    "    data_frequency='daily',\n",
    "    )\n",
    "                        "
   ]
  },
  {
   "cell_type": "code",
   "execution_count": 7,
   "metadata": {},
   "outputs": [],
   "source": [
    "for ticker in tickers:\n",
    "    df = pd.read_csv(f'CSVs/daily/{ticker}.csv')\n",
    "    df.set_index('date', inplace=True)\n",
    "    if df.close.isnull().values.any():\n",
    "        print(ticker)\n"
   ]
  },
  {
   "cell_type": "code",
   "execution_count": null,
   "metadata": {},
   "outputs": [],
   "source": [
    "benchmark_returns = yf.download('^sp100', start=start_date, end=end_date)['Adj Close'].pct_change()\n",
    "\n",
    "qs.reports.full(result.returns, benchmark_rets=benchmark_returns, df=result)"
   ]
  }
 ],
 "metadata": {
  "kernelspec": {
   "display_name": "base",
   "language": "python",
   "name": "python3"
  },
  "language_info": {
   "codemirror_mode": {
    "name": "ipython",
    "version": 3
   },
   "file_extension": ".py",
   "mimetype": "text/x-python",
   "name": "python",
   "nbconvert_exporter": "python",
   "pygments_lexer": "ipython3",
   "version": "3.11.5"
  }
 },
 "nbformat": 4,
 "nbformat_minor": 2
}
